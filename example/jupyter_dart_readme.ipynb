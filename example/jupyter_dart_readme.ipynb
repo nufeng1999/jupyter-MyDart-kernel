{
 "cells": [
  {
   "cell_type": "markdown",
   "id": "7f9ff556-878f-4705-85f2-982d5a37f013",
   "metadata": {
    "tags": []
   },
   "source": [
    "### 特殊注释符号  \n",
    "  //%file：代码执行时生成的文件，指定文件名后，将不会自动删除。  \n",
    "  //%args: 代码运行时的参数  \n",
    "  //%norun: 代码不执行，配合file参数，仅生成文件  \n",
    "  //%include:包含代码片段文件  \n",
    "  //%command:执行dart 命令"
   ]
  },
  {
   "cell_type": "code",
   "execution_count": null,
   "id": "bdfd6004-ae77-4476-aa89-6eb7e26f5d25",
   "metadata": {},
   "outputs": [],
   "source": [
    "//%command: run"
   ]
  },
  {
   "cell_type": "code",
   "execution_count": null,
   "id": "9f39192c-3d08-4c03-ba00-b5387d430ced",
   "metadata": {
    "tags": []
   },
   "outputs": [
    {
     "name": "stdout",
     "output_type": "stream",
     "text": [
      "test\n",
      "\n",
      "true\n",
      "\n",
      "---------\n",
      "hello 0\n",
      "---------\n",
      "hello 1\n",
      "---------\n",
      "hello 2\n",
      "---------\n",
      "hello 3\n"
     ]
    }
   ],
   "source": [
    "//%args: --mode test\n",
    "//%file:\n",
    "import 'package:args/args.dart';\n",
    "void main(List<String> args){\n",
    "    var parser = ArgParser();\n",
    "    parser.addOption('mode');\n",
    "    parser.addFlag('verbose', defaultsTo: true);\n",
    "    var results = parser.parse(args);\n",
    "\n",
    "    print('${results['mode']}\\n'); // debug\n",
    "    print('${results['verbose']}\\n'); // true\n",
    "    //%include:test3.dart\n",
    "}"
   ]
  },
  {
   "cell_type": "code",
   "execution_count": null,
   "id": "fdf81ad1-8262-4104-b849-cdd504591e9d",
   "metadata": {
    "jupyter": {
     "source_hidden": true
    },
    "tags": []
   },
   "outputs": [],
   "source": [
    "//%cflags: --verbosity all\n",
    "//%file:test1.dart\n",
    "  for (var i = 0; i < 4; i++) {\n",
    "    print(\"---------\");\n",
    "    print('hello $i');\n",
    "  }\n",
    "\n"
   ]
  },
  {
   "cell_type": "code",
   "execution_count": null,
   "id": "e6c6b1ed-c8aa-423a-9b3b-7bda5713f320",
   "metadata": {},
   "outputs": [],
   "source": [
    "//%file:test3.dart\n",
    "//%norun:true\n",
    "for (var i = 0; i < 4; i++) {\n",
    "    print(\"---------\");\n",
    "    print('hello $i');\n",
    "}"
   ]
  },
  {
   "cell_type": "code",
   "execution_count": null,
   "id": "75718e0e-b732-45f6-ba3a-256e98fe2a41",
   "metadata": {},
   "outputs": [],
   "source": []
  }
 ],
 "metadata": {
  "kernelspec": {
   "display_name": "Dart",
   "language": "dart",
   "name": "dart"
  },
  "language_info": {
   "file_extension": ".dart",
   "mimetype": "text/x-csrc",
   "name": "text/x-csrc"
  }
 },
 "nbformat": 4,
 "nbformat_minor": 5
}
