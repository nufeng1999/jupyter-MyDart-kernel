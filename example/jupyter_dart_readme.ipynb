{
 "cells": [
  {
   "cell_type": "markdown",
   "id": "7f9ff556-878f-4705-85f2-982d5a37f013",
   "metadata": {
    "tags": []
   },
   "source": [
    "### 特殊注释符号  \n",
    "  //%file：代码执行时生成的文件，指定文件名后，将不会自动删除。  \n",
    "  //%args: 代码运行时的参数。  \n",
    "  //%noruncode 不执行代码，一般配合file,command,dartcmd 参数一起使用。  \n",
    "  //%include:包含代码片段文件  \n",
    "  //%command:执行shell 命令  \n",
    "  //%dartcmd:执行dart 命令  "
   ]
  },
  {
   "cell_type": "code",
   "execution_count": 1,
   "id": "bdfd6004-ae77-4476-aa89-6eb7e26f5d25",
   "metadata": {},
   "outputs": [
    {
     "name": "stdout",
     "output_type": "stream",
     "text": [
      "总用量 60\n",
      "drwxr-xr-x 5 root root 4096 11月  3 18:14 .\n",
      "drwxr-xr-x 6 root root 4096 11月  1 19:43 ..\n",
      "-rw-r--r-- 1 root root 1038 11月  1 19:45 analysis_options.yaml\n",
      "drwxr-xr-x 3 root root 4096 11月  1 22:25 bin\n",
      "-rw-r--r-- 1 root root   29 11月  1 19:45 CHANGELOG.md\n",
      "drwxr-xr-x 2 root root 4096 11月  1 19:45 .dart_tool\n",
      "-rw-r--r-- 1 root root  113 11月  1 19:45 .gitignore\n",
      "drwxr-xr-x 2 root root 4096 11月  1 22:09 .ipynb_checkpoints\n",
      "-rw-r--r-- 1 root root 3784 11月  3 18:14 jupyter_dart_readme.ipynb\n",
      "-rw-r--r-- 1 root root  368 11月  1 22:07 .packages\n",
      "-rw-r--r-- 1 root root  412 11月  1 22:07 pubspec.lock\n",
      "-rw-r--r-- 1 root root  239 11月  1 19:50 pubspec.yaml\n",
      "-rw-r--r-- 1 root root   35 11月  1 19:45 README.md\n",
      "-rw------- 1 root root  134 11月  2 09:13 test1.dart\n",
      "-rw------- 1 root root   80 11月  3 18:00 test3.dart\n",
      "[Dart kernel] Info: command success.\n"
     ]
    }
   ],
   "source": [
    "//%noruncode\n",
    "//%command: ls -al"
   ]
  },
  {
   "cell_type": "code",
   "execution_count": null,
   "id": "9f39192c-3d08-4c03-ba00-b5387d430ced",
   "metadata": {
    "tags": []
   },
   "outputs": [
    {
     "name": "stdout",
     "output_type": "stream",
     "text": [
      "[Dart kernel] Info:file created successfully\n",
      "test\n",
      "\n",
      "true\n",
      "\n",
      "---------\n",
      "hello 0\n",
      "---------\n",
      "hello 1\n",
      "---------\n",
      "hello 2\n",
      "---------\n",
      "hello 3\n"
     ]
    }
   ],
   "source": [
    "//%args: --mode test\n",
    "//%file:test2.dart\n",
    "import 'package:args/args.dart';\n",
    "void main(List<String> args){\n",
    "    var parser = ArgParser();\n",
    "    parser.addOption('mode');\n",
    "    parser.addFlag('verbose', defaultsTo: true);\n",
    "    var results = parser.parse(args);\n",
    "\n",
    "    print('${results['mode']}\\n'); // debug\n",
    "    print('${results['verbose']}\\n'); // true\n",
    "    //%include:test3.dart\n",
    "}"
   ]
  },
  {
   "cell_type": "code",
   "execution_count": 6,
   "id": "fdf81ad1-8262-4104-b849-cdd504591e9d",
   "metadata": {
    "tags": []
   },
   "outputs": [
    {
     "name": "stdout",
     "output_type": "stream",
     "text": [
      "[Dart kernel] Info:file created successfully\n"
     ]
    }
   ],
   "source": [
    "//%cflags: --verbosity all\n",
    "//%file:test1.dart\n",
    "//%noruncode\n",
    "  for (var i = 0; i < 4; i++) {\n",
    "    print(\"---------\");\n",
    "    print('hello $i');\n",
    "  }\n",
    "\n"
   ]
  },
  {
   "cell_type": "code",
   "execution_count": 3,
   "id": "e6c6b1ed-c8aa-423a-9b3b-7bda5713f320",
   "metadata": {},
   "outputs": [
    {
     "name": "stdout",
     "output_type": "stream",
     "text": [
      "[Dart kernel] Info:file created successfully\n"
     ]
    }
   ],
   "source": [
    "//%file:test3.dart\n",
    "//%noruncode\n",
    "for (var i = 0; i < 4; i++) {\n",
    "    print(\"---------\");\n",
    "    print('hello $i');\n",
    "}"
   ]
  },
  {
   "cell_type": "code",
   "execution_count": 1,
   "id": "75718e0e-b732-45f6-ba3a-256e98fe2a41",
   "metadata": {},
   "outputs": [
    {
     "name": "stdout",
     "output_type": "stream",
     "text": [
      "<iframe src='https://www.baidu.com' width='%100' height='%100'></iframe>\n"
     ]
    }
   ],
   "source": [
    "print(\"<iframe src=\\'https://www.baidu.com\\' width=\\'%100\\' height=\\'%100\\'\\></iframe>\");"
   ]
  },
  {
   "cell_type": "code",
   "execution_count": null,
   "id": "9606c10c-2c32-4f62-b10e-3fc003b1d2e6",
   "metadata": {},
   "outputs": [],
   "source": []
  }
 ],
 "metadata": {
  "kernelspec": {
   "display_name": "Dart",
   "language": "dart",
   "name": "dart"
  },
  "language_info": {
   "file_extension": ".dart",
   "mimetype": "text/x-csrc",
   "name": "text/x-csrc"
  }
 },
 "nbformat": 4,
 "nbformat_minor": 5
}
