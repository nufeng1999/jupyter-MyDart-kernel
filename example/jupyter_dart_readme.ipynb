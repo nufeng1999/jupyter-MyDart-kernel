{
 "cells": [
  {
   "cell_type": "code",
   "execution_count": 3,
   "id": "bdfd6004-ae77-4476-aa89-6eb7e26f5d25",
   "metadata": {},
   "outputs": [
    {
     "data": {
      "text/plain": [
       "[MyDart Kernel] Info:ls -al \n"
      ]
     },
     "metadata": {
      "text/plain": {}
     },
     "output_type": "display_data"
    },
    {
     "data": {
      "text/plain": [
       "总用量 24\n",
       "drwxr-xr-x 1 Administrator None     0 12月 11 21:41 .\n",
       "drwxr-xr-x 1 Administrator None     0 11月 28 10:33 ..\n",
       "-rw-r--r-- 1 Administrator None 20085 12月 17 10:31 jupyter_dart_readme.ipynb\n"
      ]
     },
     "metadata": {
      "text/plain": {}
     },
     "output_type": "display_data"
    },
    {
     "data": {
      "text/plain": [
       "The process end:13800\n"
      ]
     },
     "metadata": {
      "text/plain": {}
     },
     "output_type": "display_data"
    },
    {
     "data": {
      "text/plain": [
       "[MyDart Kernel] Info:command success.\n",
       "\n"
      ]
     },
     "metadata": {
      "text/plain": {}
     },
     "output_type": "display_data"
    }
   ],
   "source": [
    "//%onlyruncmd\n",
    "//%command: ls -al"
   ]
  },
  {
   "cell_type": "code",
   "execution_count": 1,
   "id": "edd79ef4",
   "metadata": {},
   "outputs": [
    {
     "data": {
      "text/plain": [
       "[MyDart Kernel] Info:dart --help \n"
      ]
     },
     "metadata": {
      "text/plain": {}
     },
     "output_type": "display_data"
    },
    {
     "data": {
      "text/plain": [
       "A command-line utility for Dart development.\n",
       "\n",
       "Usage: dart [<vm-flags>] <command|dart-file> [<arguments>]\n",
       "\n",
       "Global options:\n",
       "-h, --help                 Print this usage information.\n",
       "-v, --verbose              Show additional command output.\n",
       "    --version              Print the Dart SDK version.\n",
       "    --enable-analytics     Enable analytics.\n",
       "    --disable-analytics    Disable analytics.\n",
       "\n",
       "Available commands:\n",
       "  analyze   Analyze Dart code in a directory.\n",
       "  compile   Compile Dart to various formats.\n",
       "  create    Create a new Dart project.\n",
       "  fix       Apply automated fixes to Dart source code.\n",
       "  format    Idiomatically format Dart source code.\n",
       "  migrate   Perform null safety migration on a project.\n",
       "  pub       Work with packages.\n",
       "  run       Run a Dart program.\n",
       "  test      Run tests for a project.\n",
       "\n",
       "Run \"dart help <command>\" for more information about a command.\n",
       "See https://dart.dev/tools/dart-tool for detailed documentation.\n"
      ]
     },
     "metadata": {
      "text/plain": {}
     },
     "output_type": "display_data"
    },
    {
     "data": {
      "text/plain": [
       "The process end:12720\n"
      ]
     },
     "metadata": {
      "text/plain": {}
     },
     "output_type": "display_data"
    },
    {
     "data": {
      "text/plain": [
       "[MyDart Kernel] Info:Info:dart command success.\n"
      ]
     },
     "metadata": {
      "text/plain": {}
     },
     "output_type": "display_data"
    }
   ],
   "source": [
    "// run dart cmd\n",
    "//%onlyruncmd\n",
    "//%dartcmd: --help"
   ]
  },
  {
   "cell_type": "code",
   "execution_count": 2,
   "id": "5f926545",
   "metadata": {},
   "outputs": [
    {
     "data": {
      "text/plain": [
       "[MyDart Kernel] Info:python --help \n"
      ]
     },
     "metadata": {
      "text/plain": {}
     },
     "output_type": "display_data"
    },
    {
     "data": {
      "text/plain": [
       "usage: python [option] ... [-c cmd | -m mod | file | -] [arg] ...\r\n",
       "Options and arguments (and corresponding environment variables):\r\n",
       "-b     : issue warnings about str(bytes_instance), str(bytearray_instance)\r\n",
       "         and comparing bytes/bytearray with str. (-bb: issue errors)\r\n",
       "-B     : don't write .pyc files on import; also PYTHONDONTWRITEBYTECODE=x\r\n",
       "-c cmd : program passed in as string (terminates option list)\r\n",
       "-d     : turn on parser debugging output (for experts only, only works on\r\n",
       "         debug builds); also PYTHONDEBUG=x\r\n",
       "-E     : ignore PYTHON* environment variables (such as PYTHONPATH)\r\n",
       "-h     : print this help message and exit (also --help)\r\n",
       "-i     : inspect interactively after running script; forces a prompt even\r\n",
       "         if stdin does not appear to be a terminal; also PYTHONINSPECT=x\r\n",
       "-I     : isolate Python from the user's environment (implies -E and -s)\r\n",
       "-m mod : run library module as a script (terminates option list)\r\n",
       "-O     : remove assert and __debug__-dependent statements; add .opt-1 before\r\n",
       "         .pyc extension; also PYTHONOPTIMIZE=x\r\n",
       "-OO    : do -O changes and also discard docstrings; add .opt-2 before\r\n",
       "         .pyc extension\r\n",
       "-q     : don't print version and copyright messages on interactive startup\r\n",
       "-s     : don't add user site directory to sys.path; also PYTHONNOUSERSITE\r\n",
       "-S     : don't imply 'import site' on initialization\r\n",
       "-u     : force the stdout and stderr streams to be unbuffered;\r\n",
       "         this option has no effect on stdin; also PYTHONUNBUFFERED=x\r\n",
       "-v     : verbose (trace import statements); also PYTHONVERBOSE=x\r\n",
       "         can be supplied multiple times to increase verbosity\r\n",
       "-V     : print the Python version number and exit (also --version)\r\n",
       "         when given twice, print more information about the build\r\n",
       "-W arg : warning control; arg is action:message:category:module:lineno\r\n",
       "         also PYTHONWARNINGS=arg\r\n",
       "-x     : skip first line of source, allowing use of non-Unix forms of #!cmd\r\n",
       "-X opt : set implementation-specific option. The following options are available:\r\n",
       "\r\n",
       "         -X faulthandler: enable faulthandler\r\n",
       "         -X oldparser: enable the traditional LL(1) parser; also PYTHONOLDPARSER\r\n",
       "         -X showrefcount: output the total reference count and number of used\r\n",
       "             memory blocks when the program finishes or after each statement in the\r\n",
       "             interactive interpreter. This only works on debug builds\r\n",
       "         -X tracemalloc: start tracing Python memory allocations using the\r\n",
       "             tracemalloc module. By default, only the most recent frame is stored in a\r\n",
       "             traceback of a trace. Use -X tracemalloc=NFRAME to start tracing with a\r\n",
       "             traceback limit of NFRAME frames\r\n",
       "         -X importtime: show how long each import takes. It shows module name,\r\n",
       "             cumulative time (including nested imports) and self time (excluding\r\n",
       "             nested imports). Note that its output may be broken in multi-threaded\r\n",
       "             application. Typical usage is python3 -X importtime -c 'import asyncio'\r\n",
       "         -X dev: enable CPython's \"development mode\", introducing additional runtime\r\n",
       "             checks which are too expensive to be enabled by default. Effect of the\r\n",
       "             developer mode:\r\n",
       "                * Add default warning filter, as -W default\r\n",
       "                * Install debug hooks on memory allocators: see the PyMem_SetupDebugHooks() C function\r\n",
       "                * Enable the faulthandler module to dump the Python traceback on a crash\r\n",
       "                * Enable asyncio debug mode\r\n",
       "                * Set the dev_mode attribute of sys.flags to True\r\n",
       "                * io.IOBase destructor logs close() exceptions\r\n",
       "         -X utf8: enable UTF-8 mode for operating system interfaces, overriding the default\r\n",
       "             locale-aware mode. -X utf8=0 explicitly disables UTF-8 mode (even when it would\r\n",
       "             otherwise activate automatically)\r\n",
       "         -X pycache_prefix=PATH: enable writing .pyc files to a parallel tree rooted at the\r\n",
       "             given directory instead of to the code tree\r\n",
       "\r\n",
       "--check-hash-based-pycs always|default|ne"
      ]
     },
     "metadata": {
      "text/plain": {}
     },
     "output_type": "display_data"
    },
    {
     "data": {
      "text/plain": [
       "ver:\r\n",
       "    control how Python invalidates hash-based .pyc files\r\n",
       "file   : program read from script file\r\n",
       "-      : program read from stdin (default; interactive mode if a tty)\r\n",
       "arg ...: arguments passed to program in sys.argv[1:]\r\n",
       "\r\n",
       "Other environment variables:\r\n",
       "PYTHONSTARTUP: file executed on interactive startup (no default)\r\n",
       "PYTHONPATH   : ';'-separated list of directories prefixed to the\r\n",
       "               default module search path.  The result is sys.path.\r\n",
       "PYTHONHOME   : alternate <prefix> directory (or <prefix>;<exec_prefix>).\r\n",
       "               The default module search path uses <prefix>/lib/pythonX.X.\r\n",
       "PYTHONPLATLIBDIR : override sys.platlibdir.\r\n",
       "PYTHONCASEOK : ignore case in 'import' statements (Windows).\r\n",
       "PYTHONUTF8: if set to 1, enable the UTF-8 mode.\r\n",
       "PYTHONIOENCODING: Encoding[:errors] used for stdin/stdout/stderr.\r\n",
       "PYTHONFAULTHANDLER: dump the Python traceback on fatal errors.\r\n",
       "PYTHONHASHSEED: if this variable is set to 'random', a random value is used\r\n",
       "   to seed the hashes of str and bytes objects.  It can also be set to an\r\n",
       "   integer in the range [0,4294967295] to get hash values with a\r\n",
       "   predictable seed.\r\n",
       "PYTHONMALLOC: set the Python memory allocators and/or install debug hooks\r\n",
       "   on Python memory allocators. Use PYTHONMALLOC=debug to install debug\r\n",
       "   hooks.\r\n",
       "PYTHONCOERCECLOCALE: if this variable is set to 0, it disables the locale\r\n",
       "   coercion behavior. Use PYTHONCOERCECLOCALE=warn to request display of\r\n",
       "   locale coercion and locale compatibility warnings on stderr.\r\n",
       "PYTHONBREAKPOINT: if this variable is set to 0, it disables the default\r\n",
       "   debugger. It can be set to the callable of your debugger of choice.\r\n",
       "PYTHONDEVMODE: enable the development mode.\r\n",
       "PYTHONPYCACHEPREFIX: root directory for bytecode cache (pyc) files.\r\n"
      ]
     },
     "metadata": {
      "text/plain": {}
     },
     "output_type": "display_data"
    },
    {
     "data": {
      "text/plain": [
       "The process end:2568\n"
      ]
     },
     "metadata": {
      "text/plain": {}
     },
     "output_type": "display_data"
    },
    {
     "data": {
      "text/plain": [
       "[MyDart Kernel] Info:command python success.\n"
      ]
     },
     "metadata": {
      "text/plain": {}
     },
     "output_type": "display_data"
    }
   ],
   "source": [
    "// run flutter cmd\n",
    "//%onlyruncmd\n",
    "//%fluttercmd: --help"
   ]
  },
  {
   "cell_type": "code",
   "execution_count": null,
   "id": "e89bf7e5-4f2a-490f-ba8e-160e0fe5cd2d",
   "metadata": {},
   "outputs": [],
   "source": [
    "//%noruncode\n",
    "//%command: flutter pub get"
   ]
  },
  {
   "cell_type": "code",
   "execution_count": null,
   "id": "8d7bcd87-8273-4107-99a2-d3b371ec67cd",
   "metadata": {},
   "outputs": [],
   "source": [
    "///%noruncode\n",
    "//%command:flutter config --enable-linux-desktop\n",
    "//%command:flutter devices\n",
    "//%command:flutter create --platforms=linux .\n",
    "//%command: flutter run "
   ]
  },
  {
   "cell_type": "code",
   "execution_count": null,
   "id": "19b580f5-a5a5-4f06-a710-c78e07cf42e4",
   "metadata": {},
   "outputs": [],
   "source": [
    "//%noruncode\n",
    "//%command: flutter run "
   ]
  },
  {
   "cell_type": "code",
   "execution_count": null,
   "id": "9f39192c-3d08-4c03-ba00-b5387d430ced",
   "metadata": {
    "tags": []
   },
   "outputs": [],
   "source": [
    "//%args: --mode test\n",
    "//%file:test2.dart\n",
    "import 'package:args/args.dart';\n",
    "void main(List<String> args){\n",
    "    var parser = ArgParser();\n",
    "    parser.addOption('mode');\n",
    "    parser.addFlag('verbose', defaultsTo: true);\n",
    "    var results = parser.parse(args);\n",
    "\n",
    "    print('${results['mode']}\\n'); // debug\n",
    "    print('${results['verbose']}\\n'); // true\n",
    "    //%include:test/test1.dart\n",
    "}"
   ]
  },
  {
   "cell_type": "code",
   "execution_count": 1,
   "id": "fdf81ad1-8262-4104-b849-cdd504591e9d",
   "metadata": {
    "tags": []
   },
   "outputs": [
    {
     "name": "stdout",
     "output_type": "stream",
     "text": [
      "[Dart kernel] Info:file /root/Jupyter/jupyter-MyDart-kernel/example/test/test1.dart.new created successfully\n"
     ]
    }
   ],
   "source": [
    "//%cflags: --verbosity all\n",
    "//%file:test/test1.dart\n",
    "//%noruncode\n",
    "  for (var i = 0 ; i < 4 ; i++) {\n",
    "    print(\"---------\");\n",
    "    print('hello $i');\n",
    "  }\n",
    "\n"
   ]
  },
  {
   "cell_type": "code",
   "execution_count": 4,
   "id": "e6c6b1ed-c8aa-423a-9b3b-7bda5713f320",
   "metadata": {},
   "outputs": [
    {
     "name": "stdout",
     "output_type": "stream",
     "text": [
      "[Dart kernel] Info:file /root/Jupyter/jupyter-MyDart-kernel/example/test2/test3.dart.new created successfully\n"
     ]
    },
    {
     "data": {
      "text/plain": [
       "120\n"
      ]
     },
     "metadata": {
      "text/plain": {}
     },
     "output_type": "display_data"
    }
   ],
   "source": [
    "//%file:test2/test3.dart\n",
    "///%noruncode\n",
    "void main() { \n",
    "   var num = 5; \n",
    "   var factorial = 1; \n",
    "\n",
    "   for( var i = num ; i >= 1; i-- ) { \n",
    "      factorial *= i ; \n",
    "   } \n",
    "   print(factorial); \n",
    "}\n"
   ]
  },
  {
   "cell_type": "code",
   "execution_count": 2,
   "id": "75718e0e-b732-45f6-ba3a-256e98fe2a41",
   "metadata": {},
   "outputs": [
    {
     "data": {
      "text/plain": [
       "[MyDart Kernel] Info:The process :/root/Jupyter/jupyter-MyDart-kernel/example/tmpgnlte7a0.dart\n"
      ]
     },
     "metadata": {
      "text/plain": {}
     },
     "output_type": "display_data"
    },
    {
     "data": {
      "text/html": [
       "--------------------\n",
       "<h1>inputRequest-----</h1>\n"
      ]
     },
     "metadata": {
      "text/html": {}
     },
     "output_type": "display_data"
    }
   ],
   "source": [
    "//%outputtype:text/html  \n",
    "print(\"--------------------\");\n",
    "print(\"<h1>inputRequest-----</h1>\");"
   ]
  },
  {
   "cell_type": "code",
   "execution_count": null,
   "id": "ed8686f8-fa60-46d6-96f1-2ae0a2c06ae5",
   "metadata": {},
   "outputs": [],
   "source": [
    "//%file:test3.dart\n",
    "import 'package:plot_window/plot_window.dart';\n",
    "import 'package:http/http.dart' as http;\n",
    "\n",
    "main() {\n",
    "  var plotWindow = new PlotWindow(querySelector('#mycanvas'));\n",
    "  var line1 = new plot_window.Line([new Point(1,2), new Point(2,5), new Point(3,-3)], color:new plot_window.Color(255,0,0));\n",
    "\n",
    "  var line2 = new plot_window.Line([new Point(-3,5), new Point(-2,4), new Point(-1,-2)], color:new plot_window.Color(0,0,255));\n",
    "\n",
    "  plotWindow..addLine(\"line1\", line1)\n",
    "     ..addLine(\"line2\", line2);\n",
    "\n",
    "  plotWindow.plot();\n",
    "}"
   ]
  },
  {
   "cell_type": "code",
   "execution_count": null,
   "id": "9606c10c-2c32-4f62-b10e-3fc003b1d2e6",
   "metadata": {},
   "outputs": [],
   "source": [
    "// Copyright (c) 2015, <your name>. All rights reserved. Use of this source code\n",
    "// is governed by a BSD-style license that can be found in the LICENSE file.\n",
    "\n",
    "//import 'package:plot_window/plot_window.dart' as pl;\n",
    "import '../lib/plot_window.dart' as pl;\n",
    "import 'dart:html';\n",
    "import 'dart:math' as math;\n",
    "\n",
    "\n",
    "main() {\n",
    "  pl.Init();\n",
    "  \n",
    "  var plotWindow = new pl.LinePlotWindow(querySelector('#mycanvas'));\n",
    "  var line1 = new pl.Line(\"line1\", new pl.PointList([new Point(1,2), new Point(2,5), new Point(3,-3), new Point(4, 2)])); //, color:new pl.Color(255,0,0));\n",
    "\n",
    "  var line2 = new pl.Line(\"line2\", new pl.PointList([new Point(-3,3), new Point(-2,2), new Point(-1,3), new Point(0,2), new Point(1,1)])); //, color:new pl.Color(0,0,255));\n",
    "  line2.showLinearRegression= true;\n",
    "  plotWindow..addLine(line1)\n",
    "    ..addLine(line2);\n",
    "  \n",
    "    plotWindow.plot(); \n",
    "    /*\n",
    "  var rand = new math.Random();\n",
    "  var data = new List<List<num>>();\n",
    "  for (int i=0; i<20; i++) {\n",
    "    data.add(new List<num>());\n",
    "    for (int j=0; j<100; j++) {\n",
    "      data[i].add(j+i + rand.nextInt(20));\n",
    "    }\n",
    "  }\n",
    "\n",
    "  var plotWindow = new pl.HeatmapPlotWindow(querySelector('#mycanvas'));\n",
    "        var heatmap = new pl.Heatmap(\"my heatmap\", 20, 20, data);\n",
    "  plotWindow.heatmap = heatmap;\n",
    "  plotWindow.plot();\n",
    "    */\n",
    "}"
   ]
  },
  {
   "cell_type": "code",
   "execution_count": 1,
   "id": "3c072d04-0882-4385-8585-06755f724af3",
   "metadata": {},
   "outputs": [
    {
     "data": {
      "text/plain": [
       "Pub is a package manager for Dart.\n",
       "\n",
       "Usage: pub <command> [arguments]\n",
       "\n",
       "Global options:\n",
       "-h, --help               Print this usage information.\n",
       "    --version            Print pub version.\n",
       "    --[no-]trace         Print debugging information when an error occurs.\n",
       "    --verbosity          Control output verbosity.\n",
       "\n",
       "          [all]          Show all output including internal tracing messages.\n",
       "          [error]        Show only errors.\n",
       "          [io]           Also show IO operations.\n",
       "          [normal]       Show errors, warnings, and user messages.\n",
       "          [solver]       Show steps during version resolution.\n",
       "          [warning]      Show only errors and warnings.\n",
       "\n",
       "-v, --verbose            Shortcut for \"--verbosity=all\".\n",
       "-C, --directory=<dir>    Run the subcommand in the directory<dir>.\n",
       "                         (defaults to \".\")\n",
       "\n",
       "Available commands:\n",
       "  add         Add a dependency to pubspec.yaml.\n",
       "  cache       Work with the system cache.\n",
       "  deps        Print package dependencies.\n",
       "  downgrade   Downgrade the current package's dependencies to oldest versions.\n",
       "  get         Get the current package's dependencies.\n",
       "  global      Work with global packages.\n",
       "  login       Log into pub.dev.\n",
       "  logout      Log out of pub.dev.\n",
       "  outdated    Analyze your dependencies to find which ones can be upgraded.\n",
       "  publish     Publish the current package to pub.dartlang.org.\n",
       "  remove      Removes a dependency from the current package.\n",
       "  run         Run an executable from a package.\n",
       "  upgrade     Upgrade the current package's dependencies to latest versions.\n",
       "  uploader    Manage uploaders for a package on pub.dartlang.org.\n",
       "  version     Print pub version.\n",
       "\n",
       "Run \"pub help <command>\" for more information about a command.\n",
       "See https://dart.dev/tools/pub/cmd for detailed documentation.\n"
      ]
     },
     "metadata": {
      "text/plain": {}
     },
     "output_type": "display_data"
    },
    {
     "data": {
      "text/plain": [
       "The process end:14228\n"
      ]
     },
     "metadata": {
      "text/plain": {}
     },
     "output_type": "display_data"
    }
   ],
   "source": [
    "//%log:0\n",
    "//%pubcmd:--help\n",
    "///%kcmd:ll -h\n",
    "//%noruncode"
   ]
  }
 ],
 "metadata": {
  "interpreter": {
   "hash": "75596ead963b1eeb4cf3ce4e8a9c4a864202dd5fd95b19dff9cbdac9756331e2"
  },
  "kernelspec": {
   "display_name": "MyDart",
   "language": "dart",
   "name": "mydart"
  },
  "language_info": {
   "file_extension": ".dart",
   "mimetype": "text/dart",
   "name": "text/dart"
  }
 },
 "nbformat": 4,
 "nbformat_minor": 5
}
