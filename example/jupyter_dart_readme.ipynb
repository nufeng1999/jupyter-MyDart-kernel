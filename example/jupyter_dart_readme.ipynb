{
 "cells": [
  {
   "cell_type": "code",
   "execution_count": null,
   "id": "bdfd6004-ae77-4476-aa89-6eb7e26f5d25",
   "metadata": {},
   "outputs": [],
   "source": [
    "//%onlyruncmd\n",
    "//%command: ls -al"
   ]
  },
  {
   "cell_type": "code",
   "execution_count": null,
   "id": "5fc07073",
   "metadata": {},
   "outputs": [],
   "source": [
    "// run pub cmd\n",
    "//%onlyruncmd\n",
    "//%pubcmd: --help"
   ]
  },
  {
   "cell_type": "code",
   "execution_count": null,
   "id": "edd79ef4",
   "metadata": {},
   "outputs": [],
   "source": [
    "// run dart cmd\n",
    "//%onlyruncmd\n",
    "//%dartcmd: --help"
   ]
  },
  {
   "cell_type": "code",
   "execution_count": null,
   "id": "5f926545",
   "metadata": {},
   "outputs": [],
   "source": [
    "// run flutter cmd\n",
    "//%onlyruncmd\n",
    "//%fluttercmd: --help"
   ]
  },
  {
   "cell_type": "code",
   "execution_count": null,
   "id": "e89bf7e5-4f2a-490f-ba8e-160e0fe5cd2d",
   "metadata": {},
   "outputs": [],
   "source": [
    "//%noruncode\n",
    "//%command: flutter pub get"
   ]
  },
  {
   "cell_type": "code",
   "execution_count": null,
   "id": "8d7bcd87-8273-4107-99a2-d3b371ec67cd",
   "metadata": {},
   "outputs": [],
   "source": [
    "///%noruncode\n",
    "//%command:flutter config --enable-linux-desktop\n",
    "//%command:flutter devices\n",
    "//%command:flutter create --platforms=linux .\n",
    "//%command: flutter run "
   ]
  },
  {
   "cell_type": "code",
   "execution_count": null,
   "id": "19b580f5-a5a5-4f06-a710-c78e07cf42e4",
   "metadata": {},
   "outputs": [],
   "source": [
    "//%noruncode\n",
    "//%command: flutter run "
   ]
  },
  {
   "cell_type": "code",
   "execution_count": null,
   "id": "9f39192c-3d08-4c03-ba00-b5387d430ced",
   "metadata": {
    "tags": []
   },
   "outputs": [],
   "source": [
    "//%args: --mode test\n",
    "//%file:test2.dart\n",
    "import 'package:args/args.dart';\n",
    "void main(List<String> args){\n",
    "    var parser = ArgParser();\n",
    "    parser.addOption('mode');\n",
    "    parser.addFlag('verbose', defaultsTo: true);\n",
    "    var results = parser.parse(args);\n",
    "\n",
    "    print('${results['mode']}\\n'); // debug\n",
    "    print('${results['verbose']}\\n'); // true\n",
    "    //%include:test/test1.dart\n",
    "}"
   ]
  },
  {
   "cell_type": "code",
   "execution_count": null,
   "id": "fdf81ad1-8262-4104-b849-cdd504591e9d",
   "metadata": {
    "tags": []
   },
   "outputs": [],
   "source": [
    "//%cflags: --verbosity all\n",
    "//%file:test/test1.dart\n",
    "//%noruncode\n",
    "  for (var i = 0 ; i < 4 ; i++) {\n",
    "    print(\"---------\");\n",
    "    print('hello $i');\n",
    "  }\n",
    "\n"
   ]
  },
  {
   "cell_type": "code",
   "execution_count": null,
   "id": "e6c6b1ed-c8aa-423a-9b3b-7bda5713f320",
   "metadata": {},
   "outputs": [],
   "source": [
    "//%file:test2/test3.dart\n",
    "///%noruncode\n",
    "void main() { \n",
    "   var num = 5; \n",
    "   var factorial = 1; \n",
    "\n",
    "   for( var i = num ; i >= 1; i-- ) { \n",
    "      factorial *= i ; \n",
    "   } \n",
    "   print(factorial); \n",
    "}\n"
   ]
  },
  {
   "cell_type": "code",
   "execution_count": null,
   "id": "75718e0e-b732-45f6-ba3a-256e98fe2a41",
   "metadata": {},
   "outputs": [],
   "source": [
    "//%outputtype:text/html  \n",
    "print(\"--------------------\");\n",
    "print(\"<h1>inputRequest-----</h1>\");"
   ]
  },
  {
   "cell_type": "code",
   "execution_count": null,
   "id": "ed8686f8-fa60-46d6-96f1-2ae0a2c06ae5",
   "metadata": {},
   "outputs": [],
   "source": [
    "//%file:test3.dart\n",
    "import 'package:plot_window/plot_window.dart';\n",
    "import 'package:http/http.dart' as http;\n",
    "\n",
    "main() {\n",
    "  var plotWindow = new PlotWindow(querySelector('#mycanvas'));\n",
    "  var line1 = new plot_window.Line([new Point(1,2), new Point(2,5), new Point(3,-3)], color:new plot_window.Color(255,0,0));\n",
    "\n",
    "  var line2 = new plot_window.Line([new Point(-3,5), new Point(-2,4), new Point(-1,-2)], color:new plot_window.Color(0,0,255));\n",
    "\n",
    "  plotWindow..addLine(\"line1\", line1)\n",
    "     ..addLine(\"line2\", line2);\n",
    "\n",
    "  plotWindow.plot();\n",
    "}"
   ]
  },
  {
   "cell_type": "code",
   "execution_count": null,
   "id": "9606c10c-2c32-4f62-b10e-3fc003b1d2e6",
   "metadata": {},
   "outputs": [],
   "source": [
    "// Copyright (c) 2015, <your name>. All rights reserved. Use of this source code\n",
    "// is governed by a BSD-style license that can be found in the LICENSE file.\n",
    "\n",
    "//import 'package:plot_window/plot_window.dart' as pl;\n",
    "import '../lib/plot_window.dart' as pl;\n",
    "import 'dart:html';\n",
    "import 'dart:math' as math;\n",
    "\n",
    "\n",
    "main() {\n",
    "  pl.Init();\n",
    "  \n",
    "  var plotWindow = new pl.LinePlotWindow(querySelector('#mycanvas'));\n",
    "  var line1 = new pl.Line(\"line1\", new pl.PointList([new Point(1,2), new Point(2,5), new Point(3,-3), new Point(4, 2)])); //, color:new pl.Color(255,0,0));\n",
    "\n",
    "  var line2 = new pl.Line(\"line2\", new pl.PointList([new Point(-3,3), new Point(-2,2), new Point(-1,3), new Point(0,2), new Point(1,1)])); //, color:new pl.Color(0,0,255));\n",
    "  line2.showLinearRegression= true;\n",
    "  plotWindow..addLine(line1)\n",
    "    ..addLine(line2);\n",
    "  \n",
    "    plotWindow.plot(); \n",
    "    /*\n",
    "  var rand = new math.Random();\n",
    "  var data = new List<List<num>>();\n",
    "  for (int i=0; i<20; i++) {\n",
    "    data.add(new List<num>());\n",
    "    for (int j=0; j<100; j++) {\n",
    "      data[i].add(j+i + rand.nextInt(20));\n",
    "    }\n",
    "  }\n",
    "\n",
    "  var plotWindow = new pl.HeatmapPlotWindow(querySelector('#mycanvas'));\n",
    "        var heatmap = new pl.Heatmap(\"my heatmap\", 20, 20, data);\n",
    "  plotWindow.heatmap = heatmap;\n",
    "  plotWindow.plot();\n",
    "    */\n",
    "}"
   ]
  },
  {
   "cell_type": "code",
   "execution_count": null,
   "id": "3c072d04-0882-4385-8585-06755f724af3",
   "metadata": {},
   "outputs": [],
   "source": [
    "//%log:0\n",
    "//%pubcmd:--help\n",
    "///%kcmd:ll -h\n",
    "//%noruncode"
   ]
  }
 ],
 "metadata": {
  "interpreter": {
   "hash": "75596ead963b1eeb4cf3ce4e8a9c4a864202dd5fd95b19dff9cbdac9756331e2"
  },
  "kernelspec": {
   "display_name": "MyDart",
   "language": "dart",
   "name": "mydart"
  },
  "language_info": {
   "file_extension": ".dart",
   "mimetype": "text/dart",
   "name": "dart"
  }
 },
 "nbformat": 4,
 "nbformat_minor": 5
}
