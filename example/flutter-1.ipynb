{
 "cells": [
  {
   "cell_type": "code",
   "execution_count": 1,
   "metadata": {},
   "outputs": [
    {
     "name": "stdout",
     "output_type": "stream",
     "text": [
      "[MyDartKernel203828] Info:cmd /c flutter config --enable-windows-desktop \n"
     ]
    },
    {
     "data": {
      "text/plain": [
       "Setting \"enable-windows-desktop\" value to \"true\".\n"
      ]
     },
     "metadata": {
      "text/plain": {}
     },
     "output_type": "display_data"
    },
    {
     "data": {
      "text/plain": [
       "\n",
       "You may need to restart any open editors for them to read new settings.\n"
      ]
     },
     "metadata": {
      "text/plain": {}
     },
     "output_type": "display_data"
    },
    {
     "name": "stdout",
     "output_type": "stream",
     "text": [
      "[MyDartKernel203828] Info:The process end:16620\n",
      "[MyDartKernel203828] Info:Info:flutter cmd command success.\n",
      "[MyDartKernel203828] Info:cmd /c flutter devices \n"
     ]
    },
    {
     "data": {
      "text/plain": [
       "3 connected devices:\n",
       "\n"
      ]
     },
     "metadata": {
      "text/plain": {}
     },
     "output_type": "display_data"
    },
    {
     "data": {
      "text/plain": [
       "Windows (desktop) • windows • windows-x64    • Microsoft Windows [Version 10.0.22000.376]\n"
      ]
     },
     "metadata": {
      "text/plain": {}
     },
     "output_type": "display_data"
    },
    {
     "data": {
      "text/plain": [
       "Chrome (web)      • chrome  • web-javascript • Google Chrome 96.0.4664.45\n"
      ]
     },
     "metadata": {
      "text/plain": {}
     },
     "output_type": "display_data"
    },
    {
     "data": {
      "text/plain": [
       "Edge (web)        • edge    • web-javascript • Microsoft Edge 96.0.1054.62\n"
      ]
     },
     "metadata": {
      "text/plain": {}
     },
     "output_type": "display_data"
    },
    {
     "name": "stdout",
     "output_type": "stream",
     "text": [
      "[MyDartKernel203828] Info:The process end:16088\n",
      "[MyDartKernel203828] Info:Info:flutter cmd command success.\n",
      "[MyDartKernel203828] Info:cmd /c flutter create --platforms=windows app2 \n"
     ]
    },
    {
     "data": {
      "text/plain": [
       "Creating project app2...\n"
      ]
     },
     "metadata": {
      "text/plain": {}
     },
     "output_type": "display_data"
    },
    {
     "data": {
      "text/plain": [
       "  app2\\lib\\main.dart (created)\n"
      ]
     },
     "metadata": {
      "text/plain": {}
     },
     "output_type": "display_data"
    },
    {
     "data": {
      "text/plain": [
       "  app2\\pubspec.yaml (created)\n"
      ]
     },
     "metadata": {
      "text/plain": {}
     },
     "output_type": "display_data"
    },
    {
     "data": {
      "text/plain": [
       "  app2\\README.md (created)\n"
      ]
     },
     "metadata": {
      "text/plain": {}
     },
     "output_type": "display_data"
    },
    {
     "data": {
      "text/plain": [
       "  app2\\test\\widget_test.dart (created)\n"
      ]
     },
     "metadata": {
      "text/plain": {}
     },
     "output_type": "display_data"
    },
    {
     "data": {
      "text/plain": [
       "  app2\\.gitignore (created)\n"
      ]
     },
     "metadata": {
      "text/plain": {}
     },
     "output_type": "display_data"
    },
    {
     "data": {
      "text/plain": [
       "  app2\\.idea\\libraries\\Dart_SDK.xml (created)\n"
      ]
     },
     "metadata": {
      "text/plain": {}
     },
     "output_type": "display_data"
    },
    {
     "data": {
      "text/plain": [
       "  app2\\.idea\\libraries\\KotlinJavaRuntime.xml (created)\n"
      ]
     },
     "metadata": {
      "text/plain": {}
     },
     "output_type": "display_data"
    },
    {
     "data": {
      "text/plain": [
       "  app2\\.idea\\modules.xml (created)\n"
      ]
     },
     "metadata": {
      "text/plain": {}
     },
     "output_type": "display_data"
    },
    {
     "data": {
      "text/plain": [
       "  app2\\.idea\\runConfigurations\\main_dart.xml (created)\n"
      ]
     },
     "metadata": {
      "text/plain": {}
     },
     "output_type": "display_data"
    },
    {
     "data": {
      "text/plain": [
       "  app2\\.idea\\workspace.xml (created)\n"
      ]
     },
     "metadata": {
      "text/plain": {}
     },
     "output_type": "display_data"
    },
    {
     "data": {
      "text/plain": [
       "  app2\\.metadata (created)\n"
      ]
     },
     "metadata": {
      "text/plain": {}
     },
     "output_type": "display_data"
    },
    {
     "data": {
      "text/plain": [
       "  app2\\analysis_options.yaml (created)\n"
      ]
     },
     "metadata": {
      "text/plain": {}
     },
     "output_type": "display_data"
    },
    {
     "data": {
      "text/plain": [
       "  app2\\app2.iml (created)\n"
      ]
     },
     "metadata": {
      "text/plain": {}
     },
     "output_type": "display_data"
    },
    {
     "data": {
      "text/plain": [
       "  app2\\windows\\.gitignore (created)\n"
      ]
     },
     "metadata": {
      "text/plain": {}
     },
     "output_type": "display_data"
    },
    {
     "data": {
      "text/plain": [
       "  app2\\windows\\CMakeLists.txt (created)\n"
      ]
     },
     "metadata": {
      "text/plain": {}
     },
     "output_type": "display_data"
    },
    {
     "data": {
      "text/plain": [
       "  app2\\windows\\flutter\\CMakeLists.txt (created)\n"
      ]
     },
     "metadata": {
      "text/plain": {}
     },
     "output_type": "display_data"
    },
    {
     "data": {
      "text/plain": [
       "  app2\\windows\\runner\\CMakeLists.txt (created)\n"
      ]
     },
     "metadata": {
      "text/plain": {}
     },
     "output_type": "display_data"
    },
    {
     "data": {
      "text/plain": [
       "  app2\\windows\\runner\\flutter_window.cpp (created)\n"
      ]
     },
     "metadata": {
      "text/plain": {}
     },
     "output_type": "display_data"
    },
    {
     "data": {
      "text/plain": [
       "  app2\\windows\\runner\\flutter_window.h (created)\n"
      ]
     },
     "metadata": {
      "text/plain": {}
     },
     "output_type": "display_data"
    },
    {
     "data": {
      "text/plain": [
       "  app2\\windows\\runner\\main.cpp (created)\n"
      ]
     },
     "metadata": {
      "text/plain": {}
     },
     "output_type": "display_data"
    },
    {
     "data": {
      "text/plain": [
       "  app2\\windows\\runner\\resource.h (created)\n"
      ]
     },
     "metadata": {
      "text/plain": {}
     },
     "output_type": "display_data"
    },
    {
     "data": {
      "text/plain": [
       "  app2\\windows\\runner\\resources\\app_icon.ico (created)\n"
      ]
     },
     "metadata": {
      "text/plain": {}
     },
     "output_type": "display_data"
    },
    {
     "data": {
      "text/plain": [
       "  app2\\windows\\runner\\runner.exe.manifest (created)\n"
      ]
     },
     "metadata": {
      "text/plain": {}
     },
     "output_type": "display_data"
    },
    {
     "data": {
      "text/plain": [
       "  app2\\windows\\runner\\Runner.rc (created)\n"
      ]
     },
     "metadata": {
      "text/plain": {}
     },
     "output_type": "display_data"
    },
    {
     "data": {
      "text/plain": [
       "  app2\\windows\\runner\\utils.cpp (created)\n"
      ]
     },
     "metadata": {
      "text/plain": {}
     },
     "output_type": "display_data"
    },
    {
     "data": {
      "text/plain": [
       "  app2\\windows\\runner\\utils.h (created)\n"
      ]
     },
     "metadata": {
      "text/plain": {}
     },
     "output_type": "display_data"
    },
    {
     "data": {
      "text/plain": [
       "  app2\\windows\\runner\\win32_window.cpp (created)\n"
      ]
     },
     "metadata": {
      "text/plain": {}
     },
     "output_type": "display_data"
    },
    {
     "data": {
      "text/plain": [
       "  app2\\windows\\runner\\win32_window.h (created)\n"
      ]
     },
     "metadata": {
      "text/plain": {}
     },
     "output_type": "display_data"
    },
    {
     "data": {
      "text/plain": [
       "Running \"flutter pub get\" in app2...                            "
      ]
     },
     "metadata": {
      "text/plain": {}
     },
     "output_type": "display_data"
    },
    {
     "data": {
      "text/plain": [
       "    3.2s"
      ]
     },
     "metadata": {
      "text/plain": {}
     },
     "output_type": "display_data"
    },
    {
     "data": {
      "text/plain": [
       "\n"
      ]
     },
     "metadata": {
      "text/plain": {}
     },
     "output_type": "display_data"
    },
    {
     "data": {
      "text/plain": [
       "Wrote 28 files.\n",
       "\n",
       "All done!\n"
      ]
     },
     "metadata": {
      "text/plain": {}
     },
     "output_type": "display_data"
    },
    {
     "data": {
      "text/plain": [
       "In order to run your application, type:\n",
       "\n",
       "  $ cd app2\n",
       "  $ flutter run\n",
       "\n",
       "Your application code is in app2\\lib\\main.dart.\n",
       "\n"
      ]
     },
     "metadata": {
      "text/plain": {}
     },
     "output_type": "display_data"
    },
    {
     "name": "stdout",
     "output_type": "stream",
     "text": [
      "[MyDartKernel203828] Info:The process end:11716\n",
      "[MyDartKernel203828] Info:Info:flutter cmd command success.\n"
     ]
    }
   ],
   "source": [
    "// 创建 flutter desktop app for linux 项目\n",
    "//%noruncode\n",
    "// %flutter:flutter config --enable-linux-desktop\n",
    "//%flutter:config --enable-windows-desktop \n",
    "//%flutter:devices\n",
    "//%flutter:create --platforms=windows app2\n",
    "// %flutter:run "
   ]
  },
  {
   "cell_type": "code",
   "execution_count": null,
   "metadata": {},
   "outputs": [],
   "source": [
    "// 创建 flutter desktop app for linux 项目\n",
    "//%noruncode\n",
    "//%runinterm\n",
    "//%term:cmd /c start \n",
    "//%command: cd app2 & flutter run"
   ]
  }
 ],
 "metadata": {
  "kernelspec": {
   "display_name": "MyDart",
   "language": "dart",
   "name": "mydart"
  },
  "language_info": {
   "file_extension": ".dart",
   "mimetype": "text/dart",
   "name": "text/dart"
  },
  "orig_nbformat": 4
 },
 "nbformat": 4,
 "nbformat_minor": 2
}
